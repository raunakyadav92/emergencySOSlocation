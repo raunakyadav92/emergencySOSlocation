{
  "nbformat": 4,
  "nbformat_minor": 0,
  "metadata": {
    "colab": {
      "provenance": [],
      "authorship_tag": "ABX9TyPqDtRRLxvrgMs151UGuCCj",
      "include_colab_link": true
    },
    "kernelspec": {
      "name": "python3",
      "display_name": "Python 3"
    },
    "language_info": {
      "name": "python"
    }
  },
  "cells": [
    {
      "cell_type": "markdown",
      "metadata": {
        "id": "view-in-github",
        "colab_type": "text"
      },
      "source": [
        "<a href=\"https://colab.research.google.com/github/raunakyadav92/emergencySOSlocation/blob/main/Locationipynb.ipynb\" target=\"_parent\"><img src=\"https://colab.research.google.com/assets/colab-badge.svg\" alt=\"Open In Colab\"/></a>"
      ]
    },
    {
      "cell_type": "code",
      "execution_count": null,
      "metadata": {
        "id": "ooMv3faLcBiB"
      },
      "outputs": [],
      "source": [
        "import geocoder\n",
        "import smtplib\n",
        "from email.message import EmailMessage\n",
        "\n",
        "g = geocoder.ip('me')\n",
        "location_link = f\"https://www.google.com/maps/search/?api=1&query={g.latlng[0]},{g.latlng[1]}\"\n",
        "\n",
        "msg = EmailMessage()\n",
        "msg.set_content(f\"🚨 EMERGENCY SOS!\\nLocation: {location_link}\")\n",
        "msg['Subject'] = \"SOS Alert!\"\n",
        "msg['From'] = \"youremail@example.com\"\n",
        "msg['To'] = \"friend@example.com\"\n",
        "\n",
        "with smtplib.SMTP_SSL('smtp.gmail.com', 465) as smtp:\n",
        "    smtp.login('youremail@example.com', 'yourpassword')\n",
        "    smtp.send_message(msg)\n",
        "\n",
        "print(\"✅ SOS Email Sent with Location\")\n"
      ]
    }
  ]
}